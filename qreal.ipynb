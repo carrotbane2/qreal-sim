{
 "cells": [
  {
   "cell_type": "code",
   "execution_count": 14,
   "id": "50b6d8a8-f688-4279-80d8-a2a3d0afb318",
   "metadata": {},
   "outputs": [],
   "source": [
    "import numpy as np\n",
    "from numpy import *\n",
    "import qutip\n",
    "from qutip import *\n",
    "from numpy.random import rand, randint\n",
    "from qutip.measurement import measure, measurement_statistics\n",
    "# from qutip.states import ket2dm, basis"
   ]
  },
  {
   "cell_type": "code",
   "execution_count": 15,
   "id": "720a4229-d60b-4a4b-aee5-a0438bf5985b",
   "metadata": {},
   "outputs": [],
   "source": [
    "class Node():\n",
    "    def get_alpha(self):\n",
    "        return self.alpha\n",
    "    def get_children(self):\n",
    "        return self.children\n",
    "\n",
    "class DecisionTree():\n",
    "\n",
    "    # this is an M-ary tree of depth N, i.e. it has M**(N+1) - 1 nodes in total\n",
    "    # each node corresponds to a measurement history,\n",
    "    # i.e. a list x_j = [k_0, k_1, ... k_j] of measurement outcomes.\n",
    "\n",
    "    \n",
    "    # initialize as as random. each node has value between 0 and 1/2 + i\n",
    "    def __init__(self, M, N):\n",
    "        self.alpha = 0.5*rand() + 1j*rand()\n",
    "        if N == 1:\n",
    "            self.children = None\n",
    "        else:\n",
    "            self.children = [DecisionTree(M, N-1)]*M\n",
    "        #self.tree = self.makeRandTree(M, N)\n",
    "\n",
    "    def makeZeroTree(self, M, N):\n",
    "        if N == 1:\n",
    "            return [0]*M\n",
    "        else:\n",
    "            return [self.makeZeroTree(M, N-1)] * M\n",
    "\n",
    "\n",
    "    # first element is value at this location, the second is a list (the children)\n",
    "    def makeRandTree(self, M, N):\n",
    "        if N == 1:\n",
    "            return [0.2*rand()]*M\n",
    "        else:\n",
    "            return [0.2*rand(), self.makeRandTree(M, N-1)] * M\n",
    "\n",
    "    def makeCountedTree(self, M, N, count = 0):\n",
    "        if N == 1:\n",
    "            return list(range(count, count + M))\n",
    "            count += M\n",
    "        else:\n",
    "            return [self.makeCountedTree(M, N-1, count)] * M\n",
    "\n",
    "    def get_alpha(self, x):\n",
    "        r = self\n",
    "        for j in x:\n",
    "            print(f\"r: {r}\")\n",
    "            r = r.children[j]\n",
    "            \n",
    "        return r.alpha"
   ]
  },
  {
   "cell_type": "code",
   "execution_count": 16,
   "id": "6a07ecd1-435b-49fe-b188-06541a731e93",
   "metadata": {},
   "outputs": [],
   "source": [
    "# given an input state, a decision tree, and a measurement history, outputs the probability of that\n",
    "# measurement history\n",
    "def prob(tree, x, state):\n",
    "    return 0\n",
    "\n",
    "def loss(tree, states):\n",
    "    return 0"
   ]
  },
  {
   "cell_type": "code",
   "execution_count": 20,
   "id": "0ca0cda2-680c-4ffd-9627-47b1aa7cd635",
   "metadata": {},
   "outputs": [
    {
     "name": "stdout",
     "output_type": "stream",
     "text": [
      "{0: Quantum object: dims=[[2], [1]], shape=(2, 1), type='ket', dtype=Dense\n",
      "Qobj data =\n",
      "[[ 0.28366219+0.j        ]\n",
      " [-0.85768795-0.42884397j]], 1: Quantum object: dims=[[2], [1]], shape=(2, 1), type='ket', dtype=Dense\n",
      "Qobj data =\n",
      "[[ 0.28366219+0.j        ]\n",
      " [-0.85768795+0.42884397j]]}\n",
      "tree:\n",
      "r: <__main__.DecisionTree object at 0x7b9a9e06b460>\n",
      "r: <__main__.DecisionTree object at 0x7b9a9e06b350>\n",
      "alpha: (0.19331507859476077+0.37032863197299903j)\n"
     ]
    }
   ],
   "source": [
    "np.sqrt(16)\n",
    "\n",
    "\n",
    "\n",
    "M = 2# dimension of Hilbert space. This is a truncated Fock state, with the basis (|0>, |1>, ... |M-1>).\n",
    "# Hilbert space has dimension 2**M\n",
    "N = 3 # depth of circuit, including the root node\n",
    "beta = 5 # this is a small parameter to ensure the coherent states are \"weak\"\n",
    "gamma = 1e-3 # intensity of the injected states\n",
    "# six states to distinguish between. these are also the ones injected, i think\n",
    "code = {\n",
    "    0: qutip.states.coherent(M, beta*np.exp(1j * np.atan(0.5))),\n",
    "    1: qutip.states.coherent(M, beta*np.exp(-1j * np.atan(0.5)))\n",
    "}\n",
    "\n",
    "projs = [qutip.states.ket2dm(qutip.states.basis(M, j)) for j in range(M)] # single-mode projectors\n",
    "projs0 = [tensor(p, identity(M)) for p in projs]\n",
    "# only measures mode 0.\n",
    "# this gives list of M projection operators, |j><j| \\otimes I\n",
    "anc = code[1]\n",
    "state = tensor(code[0], anc)\n",
    "[outcome, projected] = measure(state, projs0)\n",
    "print(code)\n",
    "\n",
    "tree = [1, [2, 3]]\n",
    "\n",
    "tree2 = DecisionTree(M, N)\n",
    "print(\"tree:\")\n",
    "print(f\"alpha: {tree2.get_alpha([1, 0])}\")\n",
    "\n",
    "anc = coherent(M, gamma*exp(2*pi*1j*rand()))\n",
    "# takes an input state, and a decision tree. yields the output state\n",
    "# always add the ancillary to the tail, and measure from the head (cf. picture in article)\n",
    "def process(state, tree):\n",
    "    for j in range(N):\n",
    "        # inject states from the several LO's: these, I assume, have known intensity but random phase\n",
    "        anc = coherent(M, gamma*exp(2*pi*1j*rand()))\n",
    "        state = tensor(state, anc)\n",
    "        #alpha = tree(x)\n",
    "        \n",
    "        #k = meas\n"
   ]
  },
  {
   "cell_type": "code",
   "execution_count": 85,
   "id": "3496348f-b737-477e-95d7-0ccbfc3de693",
   "metadata": {},
   "outputs": [
    {
     "name": "stdout",
     "output_type": "stream",
     "text": [
      "range(0, 3)\n"
     ]
    }
   ],
   "source": [
    "print(range(0, 3))"
   ]
  },
  {
   "cell_type": "code",
   "execution_count": 57,
   "id": "a370ce53-ad3c-462e-9735-bfbc18162092",
   "metadata": {},
   "outputs": [
    {
     "name": "stdout",
     "output_type": "stream",
     "text": [
      "[0, 1, 2]\n"
     ]
    }
   ],
   "source": [
    "print(list(range(0, 3)))"
   ]
  },
  {
   "cell_type": "code",
   "execution_count": null,
   "id": "4605769b-8ba4-471c-9b60-996da8cc3110",
   "metadata": {},
   "outputs": [],
   "source": []
  }
 ],
 "metadata": {
  "kernelspec": {
   "display_name": "Python (qreal)",
   "language": "python",
   "name": "qreal"
  },
  "language_info": {
   "codemirror_mode": {
    "name": "ipython",
    "version": 3
   },
   "file_extension": ".py",
   "mimetype": "text/x-python",
   "name": "python",
   "nbconvert_exporter": "python",
   "pygments_lexer": "ipython3",
   "version": "3.13.5"
  }
 },
 "nbformat": 4,
 "nbformat_minor": 5
}
