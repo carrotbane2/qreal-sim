{
 "cells": [
  {
   "cell_type": "code",
   "execution_count": 35,
   "id": "50b6d8a8-f688-4279-80d8-a2a3d0afb318",
   "metadata": {},
   "outputs": [],
   "source": [
    "import numpy as np\n",
    "import qutip\n",
    "from qutip import *\n",
    "from numpy.random import rand, randint\n",
    "from qutip.measurement import measure, measurement_statistics\n",
    "# from qutip.states import ket2dm, basis"
   ]
  },
  {
   "cell_type": "code",
   "execution_count": 41,
   "id": "0ca0cda2-680c-4ffd-9627-47b1aa7cd635",
   "metadata": {},
   "outputs": [
    {
     "ename": "ValueError",
     "evalue": "op and state dims should be compatible when state is a ket",
     "output_type": "error",
     "traceback": [
      "\u001b[31m---------------------------------------------------------------------------\u001b[39m",
      "\u001b[31mValueError\u001b[39m                                Traceback (most recent call last)",
      "\u001b[36mCell\u001b[39m\u001b[36m \u001b[39m\u001b[32mIn[41]\u001b[39m\u001b[32m, line 18\u001b[39m\n\u001b[32m     16\u001b[39m projs0 = [tensor(p, identity(M)) \u001b[38;5;28;01mfor\u001b[39;00m p \u001b[38;5;129;01min\u001b[39;00m projs] \u001b[38;5;66;03m# only measures mode 0\u001b[39;00m\n\u001b[32m     17\u001b[39m \u001b[38;5;66;03m# this gives list of N projection operators\u001b[39;00m\n\u001b[32m---> \u001b[39m\u001b[32m18\u001b[39m \u001b[43mmeasure\u001b[49m\u001b[43m(\u001b[49m\u001b[43mcode\u001b[49m\u001b[43m[\u001b[49m\u001b[32;43m0\u001b[39;49m\u001b[43m]\u001b[49m\u001b[43m,\u001b[49m\u001b[43m \u001b[49m\u001b[43mprojs0\u001b[49m\u001b[43m)\u001b[49m\n\u001b[32m     20\u001b[39m \u001b[38;5;28mprint\u001b[39m(code)\n\u001b[32m     22\u001b[39m \u001b[38;5;66;03m# takes an input state, and a decision tree. yields the output state\u001b[39;00m\n",
      "\u001b[36mFile \u001b[39m\u001b[32m~/Documents/bøger/qreal-sim/.venv/lib/python3.13/site-packages/qutip/measurement.py:437\u001b[39m, in \u001b[36mmeasure\u001b[39m\u001b[34m(state, ops, tol)\u001b[39m\n\u001b[32m    407\u001b[39m \u001b[38;5;250m\u001b[39m\u001b[33mr\u001b[39m\u001b[33;03m\"\"\"\u001b[39;00m\n\u001b[32m    408\u001b[39m \u001b[33;03mA dispatch method that provides measurement results handling both\u001b[39;00m\n\u001b[32m    409\u001b[39m \u001b[33;03mobservable style measurements and projector style measurements (POVMs and\u001b[39;00m\n\u001b[32m   (...)\u001b[39m\u001b[32m    434\u001b[39m \u001b[33;03m    Default is qutip's core settings' ``atol``.\u001b[39;00m\n\u001b[32m    435\u001b[39m \u001b[33;03m\"\"\"\u001b[39;00m\n\u001b[32m    436\u001b[39m \u001b[38;5;28;01mif\u001b[39;00m \u001b[38;5;28misinstance\u001b[39m(ops, \u001b[38;5;28mlist\u001b[39m):\n\u001b[32m--> \u001b[39m\u001b[32m437\u001b[39m     \u001b[38;5;28;01mreturn\u001b[39;00m \u001b[43mmeasure_povm\u001b[49m\u001b[43m(\u001b[49m\u001b[43mstate\u001b[49m\u001b[43m,\u001b[49m\u001b[43m \u001b[49m\u001b[43mops\u001b[49m\u001b[43m,\u001b[49m\u001b[43m \u001b[49m\u001b[43mtol\u001b[49m\u001b[43m)\u001b[49m\n\u001b[32m    438\u001b[39m \u001b[38;5;28;01melse\u001b[39;00m:\n\u001b[32m    439\u001b[39m     \u001b[38;5;28;01mreturn\u001b[39;00m measure_observable(state, ops, tol)\n",
      "\u001b[36mFile \u001b[39m\u001b[32m~/Documents/bøger/qreal-sim/.venv/lib/python3.13/site-packages/qutip/measurement.py:364\u001b[39m, in \u001b[36mmeasure_povm\u001b[39m\u001b[34m(state, ops, tol)\u001b[39m\n\u001b[32m    329\u001b[39m \u001b[38;5;28;01mdef\u001b[39;00m\u001b[38;5;250m \u001b[39m\u001b[34mmeasure_povm\u001b[39m(state, ops, tol=\u001b[38;5;28;01mNone\u001b[39;00m):\n\u001b[32m    330\u001b[39m \u001b[38;5;250m    \u001b[39m\u001b[33mr\u001b[39m\u001b[33;03m\"\"\"\u001b[39;00m\n\u001b[32m    331\u001b[39m \u001b[33;03m    Perform a measurement specified by list of POVMs.\u001b[39;00m\n\u001b[32m    332\u001b[39m \n\u001b[32m   (...)\u001b[39m\u001b[32m    361\u001b[39m \u001b[33;03m        The new state (a ket if a ket was given, otherwise a density matrix).\u001b[39;00m\n\u001b[32m    362\u001b[39m \u001b[33;03m    \"\"\"\u001b[39;00m\n\u001b[32m    363\u001b[39m     collapsed_states, probabilities = (\n\u001b[32m--> \u001b[39m\u001b[32m364\u001b[39m         \u001b[43mmeasurement_statistics_povm\u001b[49m\u001b[43m(\u001b[49m\u001b[43mstate\u001b[49m\u001b[43m,\u001b[49m\u001b[43m \u001b[49m\u001b[43mops\u001b[49m\u001b[43m,\u001b[49m\u001b[43m \u001b[49m\u001b[43mtol\u001b[49m\u001b[43m)\u001b[49m)\n\u001b[32m    365\u001b[39m     index = np.random.choice(\u001b[38;5;28mlen\u001b[39m(collapsed_states), p=probabilities)\n\u001b[32m    366\u001b[39m     state = collapsed_states[index]\n",
      "\u001b[36mFile \u001b[39m\u001b[32m~/Documents/bøger/qreal-sim/.venv/lib/python3.13/site-packages/qutip/measurement.py:173\u001b[39m, in \u001b[36mmeasurement_statistics_povm\u001b[39m\u001b[34m(state, ops, tol)\u001b[39m\n\u001b[32m    170\u001b[39m     ops = [op * op.dag() \u001b[38;5;28;01mfor\u001b[39;00m op \u001b[38;5;129;01min\u001b[39;00m ops]\n\u001b[32m    172\u001b[39m \u001b[38;5;28;01mfor\u001b[39;00m op \u001b[38;5;129;01min\u001b[39;00m ops:\n\u001b[32m--> \u001b[39m\u001b[32m173\u001b[39m     \u001b[43m_verify_input\u001b[49m\u001b[43m(\u001b[49m\u001b[43mop\u001b[49m\u001b[43m,\u001b[49m\u001b[43m \u001b[49m\u001b[43mstate\u001b[49m\u001b[43m)\u001b[49m\n\u001b[32m    175\u001b[39m E = [op.dag() * op \u001b[38;5;28;01mfor\u001b[39;00m op \u001b[38;5;129;01min\u001b[39;00m ops]\n\u001b[32m    177\u001b[39m is_ID = \u001b[38;5;28msum\u001b[39m(E)\n",
      "\u001b[36mFile \u001b[39m\u001b[32m~/Documents/bøger/qreal-sim/.venv/lib/python3.13/site-packages/qutip/measurement.py:28\u001b[39m, in \u001b[36m_verify_input\u001b[39m\u001b[34m(op, state)\u001b[39m\n\u001b[32m     26\u001b[39m \u001b[38;5;28;01mif\u001b[39;00m state.isket:\n\u001b[32m     27\u001b[39m     \u001b[38;5;28;01mif\u001b[39;00m op.dims[-\u001b[32m1\u001b[39m] != state.dims[\u001b[32m0\u001b[39m]:\n\u001b[32m---> \u001b[39m\u001b[32m28\u001b[39m         \u001b[38;5;28;01mraise\u001b[39;00m \u001b[38;5;167;01mValueError\u001b[39;00m(\n\u001b[32m     29\u001b[39m             \u001b[33m\"\u001b[39m\u001b[33mop and state dims should be compatible when state is a ket\u001b[39m\u001b[33m\"\u001b[39m)\n\u001b[32m     30\u001b[39m \u001b[38;5;28;01melif\u001b[39;00m state.isoper:\n\u001b[32m     31\u001b[39m     \u001b[38;5;28;01mif\u001b[39;00m op.dims != state.dims:\n",
      "\u001b[31mValueError\u001b[39m: op and state dims should be compatible when state is a ket"
     ]
    }
   ],
   "source": [
    "np.sqrt(16)\n",
    "\n",
    "def loss(tree):\n",
    "    return 0\n",
    "\n",
    "M = 4 # dimension of Hilbert space. This is a truncated Fock state, with the basis (|0>, |1>, ... |M-1>).\n",
    "N = 2 # depth of circuit\n",
    "beta = 1e-5 # this is a small parameter to ensure the coherent states are \"weak\"\n",
    "# six states to distinguish between. these are also the ones injected, i think\n",
    "code = {\n",
    "    0: qutip.states.coherent(M, beta*np.exp(1j * np.atan(0.5))),\n",
    "    1: qutip.states.coherent(M, beta*np.exp(-1j * np.atan(0.5)))\n",
    "}\n",
    "\n",
    "projs = [qutip.states.ket2dm(qutip.states.basis(M, j)) for j in range(M)] # single-mode projectors\n",
    "projs0 = [tensor(p, identity(M)) for p in projs] # only measures mode 0\n",
    "# this gives list of N projection operators\n",
    "measure(code[0], projs0)\n",
    "\n",
    "print(code)\n",
    "\n",
    "# takes an input state, and a decision tree. yields the output state\n",
    "def process(state, tree):\n",
    "    for j in range(N):\n",
    "        anc = code[np.randint(6)]\n",
    "        state = tensor(state, anc)\n",
    "        alpha = tree(x)\n",
    "        \n",
    "        #k = meas\n"
   ]
  },
  {
   "cell_type": "code",
   "execution_count": null,
   "id": "3496348f-b737-477e-95d7-0ccbfc3de693",
   "metadata": {},
   "outputs": [],
   "source": []
  }
 ],
 "metadata": {
  "kernelspec": {
   "display_name": "Python (qreal)",
   "language": "python",
   "name": "qreal"
  },
  "language_info": {
   "codemirror_mode": {
    "name": "ipython",
    "version": 3
   },
   "file_extension": ".py",
   "mimetype": "text/x-python",
   "name": "python",
   "nbconvert_exporter": "python",
   "pygments_lexer": "ipython3",
   "version": "3.13.5"
  }
 },
 "nbformat": 4,
 "nbformat_minor": 5
}
